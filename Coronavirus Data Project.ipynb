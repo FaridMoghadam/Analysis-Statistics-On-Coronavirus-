{
 "cells": [
  {
   "cell_type": "markdown",
   "id": "7974d534",
   "metadata": {},
   "source": [
    "# Analysis Statistics Coronavirus in Iran\n",
    "##### Review statistics collectively\n",
    "\n",
    "________________________________________________________________________________________\n",
    "\n",
    "\n",
    "\n",
    "Coronavirus, started from Wuhan, China in December 2019,\n",
    "It was spreading throughout the world and become the biggest global pandemic since the Spanish flu in 1918,\n",
    "which caused millions of deaths.\n",
    "\n",
    "This notebook will visualize the situation and trend of coronavirus outbreak at a country level.\n",
    "\n",
    "\n",
    "\n",
    "##### Source of this information:\n",
    "\n",
    "    Official statistics of corona in Iran (patients, deaths, recovered) from March 27, 2017 to April 20, 2016 .\n",
    "    (\"https://iranopendata.org/en/dataset/official-corona-statistics-in-iran-patients-deaths-recovered\")\n",
    "    \n",
    "##### Note: \n",
    "    - This research is based on the Jalali calendar.\n",
    "    - This is the first exercise to using Python in data analysis.\n",
    "\n",
    "\n",
    "    \n",
    "    \n",
    "    \n",
    "\n",
    "________________________________________________________________________________________\n"
   ]
  },
  {
   "cell_type": "code",
   "execution_count": 25,
   "id": "b95056cd",
   "metadata": {},
   "outputs": [],
   "source": [
    "#--Loading libraries\n",
    "\n",
    "import pandas as pd \n",
    "import matplotlib.pyplot as plt"
   ]
  },
  {
   "cell_type": "code",
   "execution_count": 26,
   "id": "654fcbe9",
   "metadata": {},
   "outputs": [
    {
     "name": "stdout",
     "output_type": "stream",
     "text": [
      "<class 'pandas.core.frame.DataFrame'>\n",
      "RangeIndex: 415 entries, 0 to 414\n",
      "Data columns (total 4 columns):\n",
      " #   Column          Non-Null Count  Dtype \n",
      "---  ------          --------------  ----- \n",
      " 0   Date            415 non-null    object\n",
      " 1   Total_Patients  415 non-null    int64 \n",
      " 2   Total_Death     415 non-null    int64 \n",
      " 3   Total_Healed    415 non-null    int64 \n",
      "dtypes: int64(3), object(1)\n",
      "memory usage: 13.1+ KB\n"
     ]
    }
   ],
   "source": [
    "#--Loading Data And check the general information of the file and especially the type of columns\n",
    "\n",
    "df = pd.read_csv(\"Population_statistics.csv\")\n",
    "df.info()"
   ]
  },
  {
   "cell_type": "code",
   "execution_count": 14,
   "id": "ad9c715a",
   "metadata": {},
   "outputs": [
    {
     "data": {
      "text/plain": [
       "(415, 4)"
      ]
     },
     "execution_count": 14,
     "metadata": {},
     "output_type": "execute_result"
    }
   ],
   "source": [
    "#--Get the number of rows and columns\n",
    "\n",
    "df.shape"
   ]
  },
  {
   "cell_type": "code",
   "execution_count": 15,
   "id": "091f19d3",
   "metadata": {},
   "outputs": [
    {
     "data": {
      "text/plain": [
       "Date              0\n",
       "Total_Patients    0\n",
       "Total_Death       0\n",
       "Total_Healed      0\n",
       "dtype: int64"
      ]
     },
     "execution_count": 15,
     "metadata": {},
     "output_type": "execute_result"
    }
   ],
   "source": [
    "#-- returns the number of missing values in the data set.\n",
    "\n",
    "df.isnull().sum()"
   ]
  },
  {
   "cell_type": "code",
   "execution_count": 16,
   "id": "348b0cd4",
   "metadata": {},
   "outputs": [
    {
     "data": {
      "text/html": [
       "<div>\n",
       "<style scoped>\n",
       "    .dataframe tbody tr th:only-of-type {\n",
       "        vertical-align: middle;\n",
       "    }\n",
       "\n",
       "    .dataframe tbody tr th {\n",
       "        vertical-align: top;\n",
       "    }\n",
       "\n",
       "    .dataframe thead th {\n",
       "        text-align: right;\n",
       "    }\n",
       "</style>\n",
       "<table border=\"1\" class=\"dataframe\">\n",
       "  <thead>\n",
       "    <tr style=\"text-align: right;\">\n",
       "      <th></th>\n",
       "      <th>Date</th>\n",
       "      <th>Total_Patients</th>\n",
       "      <th>Total_Death</th>\n",
       "      <th>Total_Healed</th>\n",
       "    </tr>\n",
       "  </thead>\n",
       "  <tbody>\n",
       "    <tr>\n",
       "      <th>0</th>\n",
       "      <td>1398/12/06</td>\n",
       "      <td>95</td>\n",
       "      <td>15</td>\n",
       "      <td>24</td>\n",
       "    </tr>\n",
       "    <tr>\n",
       "      <th>1</th>\n",
       "      <td>1398/12/07</td>\n",
       "      <td>139</td>\n",
       "      <td>19</td>\n",
       "      <td>54</td>\n",
       "    </tr>\n",
       "    <tr>\n",
       "      <th>2</th>\n",
       "      <td>1398/12/08</td>\n",
       "      <td>245</td>\n",
       "      <td>26</td>\n",
       "      <td>54</td>\n",
       "    </tr>\n",
       "    <tr>\n",
       "      <th>3</th>\n",
       "      <td>1398/12/09</td>\n",
       "      <td>388</td>\n",
       "      <td>34</td>\n",
       "      <td>73</td>\n",
       "    </tr>\n",
       "    <tr>\n",
       "      <th>4</th>\n",
       "      <td>1398/12/10</td>\n",
       "      <td>593</td>\n",
       "      <td>43</td>\n",
       "      <td>123</td>\n",
       "    </tr>\n",
       "  </tbody>\n",
       "</table>\n",
       "</div>"
      ],
      "text/plain": [
       "         Date  Total_Patients  Total_Death  Total_Healed\n",
       "0  1398/12/06              95           15            24\n",
       "1  1398/12/07             139           19            54\n",
       "2  1398/12/08             245           26            54\n",
       "3  1398/12/09             388           34            73\n",
       "4  1398/12/10             593           43           123"
      ]
     },
     "execution_count": 16,
     "metadata": {},
     "output_type": "execute_result"
    }
   ],
   "source": [
    "#-- Show part of the information\n",
    "\n",
    "df.head()"
   ]
  },
  {
   "cell_type": "code",
   "execution_count": 17,
   "id": "182bcbe3",
   "metadata": {},
   "outputs": [
    {
     "data": {
      "text/html": [
       "<div>\n",
       "<style scoped>\n",
       "    .dataframe tbody tr th:only-of-type {\n",
       "        vertical-align: middle;\n",
       "    }\n",
       "\n",
       "    .dataframe tbody tr th {\n",
       "        vertical-align: top;\n",
       "    }\n",
       "\n",
       "    .dataframe thead th {\n",
       "        text-align: right;\n",
       "    }\n",
       "</style>\n",
       "<table border=\"1\" class=\"dataframe\">\n",
       "  <thead>\n",
       "    <tr style=\"text-align: right;\">\n",
       "      <th></th>\n",
       "      <th>Date</th>\n",
       "      <th>Total_Patients</th>\n",
       "      <th>Total_Death</th>\n",
       "      <th>Total_Healed</th>\n",
       "      <th>Years</th>\n",
       "      <th>Months</th>\n",
       "      <th>Days</th>\n",
       "    </tr>\n",
       "  </thead>\n",
       "  <tbody>\n",
       "    <tr>\n",
       "      <th>0</th>\n",
       "      <td>1398/12/06</td>\n",
       "      <td>95</td>\n",
       "      <td>15</td>\n",
       "      <td>24</td>\n",
       "      <td>1398</td>\n",
       "      <td>12</td>\n",
       "      <td>6</td>\n",
       "    </tr>\n",
       "    <tr>\n",
       "      <th>1</th>\n",
       "      <td>1398/12/07</td>\n",
       "      <td>139</td>\n",
       "      <td>19</td>\n",
       "      <td>54</td>\n",
       "      <td>1398</td>\n",
       "      <td>12</td>\n",
       "      <td>7</td>\n",
       "    </tr>\n",
       "    <tr>\n",
       "      <th>2</th>\n",
       "      <td>1398/12/08</td>\n",
       "      <td>245</td>\n",
       "      <td>26</td>\n",
       "      <td>54</td>\n",
       "      <td>1398</td>\n",
       "      <td>12</td>\n",
       "      <td>8</td>\n",
       "    </tr>\n",
       "    <tr>\n",
       "      <th>3</th>\n",
       "      <td>1398/12/09</td>\n",
       "      <td>388</td>\n",
       "      <td>34</td>\n",
       "      <td>73</td>\n",
       "      <td>1398</td>\n",
       "      <td>12</td>\n",
       "      <td>9</td>\n",
       "    </tr>\n",
       "    <tr>\n",
       "      <th>4</th>\n",
       "      <td>1398/12/10</td>\n",
       "      <td>593</td>\n",
       "      <td>43</td>\n",
       "      <td>123</td>\n",
       "      <td>1398</td>\n",
       "      <td>12</td>\n",
       "      <td>10</td>\n",
       "    </tr>\n",
       "    <tr>\n",
       "      <th>...</th>\n",
       "      <td>...</td>\n",
       "      <td>...</td>\n",
       "      <td>...</td>\n",
       "      <td>...</td>\n",
       "      <td>...</td>\n",
       "      <td>...</td>\n",
       "      <td>...</td>\n",
       "    </tr>\n",
       "    <tr>\n",
       "      <th>410</th>\n",
       "      <td>1400/01/27</td>\n",
       "      <td>2194133</td>\n",
       "      <td>66008</td>\n",
       "      <td>1761497</td>\n",
       "      <td>1400</td>\n",
       "      <td>1</td>\n",
       "      <td>27</td>\n",
       "    </tr>\n",
       "    <tr>\n",
       "      <th>411</th>\n",
       "      <td>1400/01/28</td>\n",
       "      <td>2215445</td>\n",
       "      <td>66327</td>\n",
       "      <td>1772688</td>\n",
       "      <td>1400</td>\n",
       "      <td>1</td>\n",
       "      <td>28</td>\n",
       "    </tr>\n",
       "    <tr>\n",
       "      <th>412</th>\n",
       "      <td>1400/01/29</td>\n",
       "      <td>2237089</td>\n",
       "      <td>66732</td>\n",
       "      <td>1785357</td>\n",
       "      <td>1400</td>\n",
       "      <td>1</td>\n",
       "      <td>29</td>\n",
       "    </tr>\n",
       "    <tr>\n",
       "      <th>413</th>\n",
       "      <td>1400/01/30</td>\n",
       "      <td>2261435</td>\n",
       "      <td>67130</td>\n",
       "      <td>1797319</td>\n",
       "      <td>1400</td>\n",
       "      <td>1</td>\n",
       "      <td>30</td>\n",
       "    </tr>\n",
       "    <tr>\n",
       "      <th>414</th>\n",
       "      <td>1400/01/31</td>\n",
       "      <td>2286927</td>\n",
       "      <td>67525</td>\n",
       "      <td>1810531</td>\n",
       "      <td>1400</td>\n",
       "      <td>1</td>\n",
       "      <td>31</td>\n",
       "    </tr>\n",
       "  </tbody>\n",
       "</table>\n",
       "<p>415 rows × 7 columns</p>\n",
       "</div>"
      ],
      "text/plain": [
       "           Date  Total_Patients  Total_Death  Total_Healed  Years  Months  \\\n",
       "0    1398/12/06              95           15            24   1398      12   \n",
       "1    1398/12/07             139           19            54   1398      12   \n",
       "2    1398/12/08             245           26            54   1398      12   \n",
       "3    1398/12/09             388           34            73   1398      12   \n",
       "4    1398/12/10             593           43           123   1398      12   \n",
       "..          ...             ...          ...           ...    ...     ...   \n",
       "410  1400/01/27         2194133        66008       1761497   1400       1   \n",
       "411  1400/01/28         2215445        66327       1772688   1400       1   \n",
       "412  1400/01/29         2237089        66732       1785357   1400       1   \n",
       "413  1400/01/30         2261435        67130       1797319   1400       1   \n",
       "414  1400/01/31         2286927        67525       1810531   1400       1   \n",
       "\n",
       "     Days  \n",
       "0       6  \n",
       "1       7  \n",
       "2       8  \n",
       "3       9  \n",
       "4      10  \n",
       "..    ...  \n",
       "410    27  \n",
       "411    28  \n",
       "412    29  \n",
       "413    30  \n",
       "414    31  \n",
       "\n",
       "[415 rows x 7 columns]"
      ]
     },
     "execution_count": 17,
     "metadata": {},
     "output_type": "execute_result"
    }
   ],
   "source": [
    "#-- Separate date information by year, month and day from date, for analysis and future use\n",
    "\n",
    "df[['Years','Months', 'Days']] = df['Date'].str.split(\"/\",expand=True,)\n",
    "\n",
    "df = df.astype({'Years':'int'})\n",
    "df = df.astype({'Months':'int'})\n",
    "df = df.astype({'Days':'int'})\n",
    "\n",
    "df  "
   ]
  },
  {
   "cell_type": "code",
   "execution_count": 18,
   "id": "3b83ac40",
   "metadata": {},
   "outputs": [
    {
     "data": {
      "text/html": [
       "<div>\n",
       "<style scoped>\n",
       "    .dataframe tbody tr th:only-of-type {\n",
       "        vertical-align: middle;\n",
       "    }\n",
       "\n",
       "    .dataframe tbody tr th {\n",
       "        vertical-align: top;\n",
       "    }\n",
       "\n",
       "    .dataframe thead th {\n",
       "        text-align: right;\n",
       "    }\n",
       "</style>\n",
       "<table border=\"1\" class=\"dataframe\">\n",
       "  <thead>\n",
       "    <tr style=\"text-align: right;\">\n",
       "      <th></th>\n",
       "      <th>Total_Patients</th>\n",
       "      <th>Total_Death</th>\n",
       "      <th>Total_Healed</th>\n",
       "      <th>Years</th>\n",
       "      <th>Months</th>\n",
       "      <th>Days</th>\n",
       "    </tr>\n",
       "  </thead>\n",
       "  <tbody>\n",
       "    <tr>\n",
       "      <th>count</th>\n",
       "      <td>4.150000e+02</td>\n",
       "      <td>415.000000</td>\n",
       "      <td>4.150000e+02</td>\n",
       "      <td>415.000000</td>\n",
       "      <td>415.000000</td>\n",
       "      <td>415.000000</td>\n",
       "    </tr>\n",
       "    <tr>\n",
       "      <th>mean</th>\n",
       "      <td>7.028827e+05</td>\n",
       "      <td>30396.272289</td>\n",
       "      <td>5.757845e+05</td>\n",
       "      <td>1399.012048</td>\n",
       "      <td>6.404819</td>\n",
       "      <td>15.922892</td>\n",
       "    </tr>\n",
       "    <tr>\n",
       "      <th>std</th>\n",
       "      <td>6.325735e+05</td>\n",
       "      <td>22447.499246</td>\n",
       "      <td>5.305463e+05</td>\n",
       "      <td>0.357594</td>\n",
       "      <td>3.765464</td>\n",
       "      <td>8.761126</td>\n",
       "    </tr>\n",
       "    <tr>\n",
       "      <th>min</th>\n",
       "      <td>9.500000e+01</td>\n",
       "      <td>15.000000</td>\n",
       "      <td>2.400000e+01</td>\n",
       "      <td>1398.000000</td>\n",
       "      <td>1.000000</td>\n",
       "      <td>1.000000</td>\n",
       "    </tr>\n",
       "    <tr>\n",
       "      <th>25%</th>\n",
       "      <td>1.769325e+05</td>\n",
       "      <td>8465.500000</td>\n",
       "      <td>1.397035e+05</td>\n",
       "      <td>1399.000000</td>\n",
       "      <td>3.000000</td>\n",
       "      <td>8.000000</td>\n",
       "    </tr>\n",
       "    <tr>\n",
       "      <th>50%</th>\n",
       "      <td>4.291930e+05</td>\n",
       "      <td>24656.000000</td>\n",
       "      <td>3.637370e+05</td>\n",
       "      <td>1399.000000</td>\n",
       "      <td>6.000000</td>\n",
       "      <td>16.000000</td>\n",
       "    </tr>\n",
       "    <tr>\n",
       "      <th>75%</th>\n",
       "      <td>1.246470e+06</td>\n",
       "      <td>55595.000000</td>\n",
       "      <td>1.016878e+06</td>\n",
       "      <td>1399.000000</td>\n",
       "      <td>10.000000</td>\n",
       "      <td>23.000000</td>\n",
       "    </tr>\n",
       "    <tr>\n",
       "      <th>max</th>\n",
       "      <td>2.286927e+06</td>\n",
       "      <td>67525.000000</td>\n",
       "      <td>1.810531e+06</td>\n",
       "      <td>1400.000000</td>\n",
       "      <td>12.000000</td>\n",
       "      <td>31.000000</td>\n",
       "    </tr>\n",
       "  </tbody>\n",
       "</table>\n",
       "</div>"
      ],
      "text/plain": [
       "       Total_Patients   Total_Death  Total_Healed        Years      Months  \\\n",
       "count    4.150000e+02    415.000000  4.150000e+02   415.000000  415.000000   \n",
       "mean     7.028827e+05  30396.272289  5.757845e+05  1399.012048    6.404819   \n",
       "std      6.325735e+05  22447.499246  5.305463e+05     0.357594    3.765464   \n",
       "min      9.500000e+01     15.000000  2.400000e+01  1398.000000    1.000000   \n",
       "25%      1.769325e+05   8465.500000  1.397035e+05  1399.000000    3.000000   \n",
       "50%      4.291930e+05  24656.000000  3.637370e+05  1399.000000    6.000000   \n",
       "75%      1.246470e+06  55595.000000  1.016878e+06  1399.000000   10.000000   \n",
       "max      2.286927e+06  67525.000000  1.810531e+06  1400.000000   12.000000   \n",
       "\n",
       "             Days  \n",
       "count  415.000000  \n",
       "mean    15.922892  \n",
       "std      8.761126  \n",
       "min      1.000000  \n",
       "25%      8.000000  \n",
       "50%     16.000000  \n",
       "75%     23.000000  \n",
       "max     31.000000  "
      ]
     },
     "execution_count": 18,
     "metadata": {},
     "output_type": "execute_result"
    }
   ],
   "source": [
    "#-- This method returns description of the data in the DataFrame \n",
    "\n",
    "df.describe()"
   ]
  },
  {
   "cell_type": "code",
   "execution_count": 472,
   "id": "a13db831",
   "metadata": {},
   "outputs": [
    {
     "data": {
      "image/png": "[encoded data removed]",
      "text/plain": [
       "<Figure size 1050x420 with 1 Axes>"
      ]
     },
     "metadata": {
      "needs_background": "light"
     },
     "output_type": "display_data"
    }
   ],
   "source": [
    "#-- This chart is designed to compare total patient information and improved patients.\n",
    "\n",
    "plt.figure(figsize=(15, 6), dpi=70)\n",
    "\n",
    "plt.plot(df['Date'], df['Total_Patients'],label=\"Total Patients\")\n",
    "plt.plot(df['Date'], df['Total_Healed'],label=\"Total Healed\")\n",
    "\n",
    "plt.xticks([0, 26, 179, 387, 416],['1398/12','1399/01','1399/06','1399/12', '1400/02'])\n",
    "plt.xticks(rotation=30)\n",
    "plt.ticklabel_format(style='plain', axis='y')\n",
    "\n",
    "plt.legend()\n",
    "plt.xlabel(\"Day\")\n",
    "plt.ylabel(\"Rate / person\")\n",
    "plt.title(\"Population statistics\")\n",
    "plt.show()"
   ]
  },
  {
   "cell_type": "code",
   "execution_count": 19,
   "id": "54e2068b",
   "metadata": {},
   "outputs": [
    {
     "data": {
      "image/png": "[encoded data removed]",
      "text/plain": [
       "<Figure size 1050x420 with 1 Axes>"
      ]
     },
     "metadata": {
      "needs_background": "light"
     },
     "output_type": "display_data"
    }
   ],
   "source": [
    "#-- This chart is designed to examine the death rate of patients.\n",
    "\n",
    "plt.figure(figsize=(15, 6), dpi=70)\n",
    "\n",
    "plt.plot(df['Date'], df['Total_Death'],label=\"Total Death\", color=\"Red\")\n",
    "\n",
    "plt.xticks([0, 26, 179, 387, 416],['1398/12','1399/01','1399/06','1399/12', '1400/02'])\n",
    "plt.xticks(rotation=30)\n",
    "plt.ticklabel_format(style='plain', axis='y')\n",
    "\n",
    "plt.legend()\n",
    "plt.xlabel(\"Day\")\n",
    "plt.ylabel(\"Death / person\")\n",
    "plt.title(\"Total Death\")\n",
    "plt.show()"
   ]
  },
  {
   "cell_type": "code",
   "execution_count": 20,
   "id": "d901612f",
   "metadata": {},
   "outputs": [
    {
     "data": {
      "image/png": "[encoded data removed]",
      "text/plain": [
       "<Figure size 700x420 with 1 Axes>"
      ]
     },
     "metadata": {},
     "output_type": "display_data"
    }
   ],
   "source": [
    "#-- This chart is for displaying and comparing the percentage of each category\n",
    "\n",
    "plt.figure(figsize=(10, 6), dpi=70)\n",
    "\n",
    "x = [df['Total_Death'].max(),df['Total_Healed'].max(),df['Total_Patients'].max()]\n",
    "labels = [\"Total Death\", \"Total Healed\", \"Total Patients\"]\n",
    "\n",
    "myexplode = [0.5, 0.04, 0.04]\n",
    "plt.pie(x, labels = labels, explode = myexplode, shadow = True, autopct='%1.1f %%')\n",
    "plt.legend(labels, loc='best', bbox_to_anchor=(0, 1), fontsize=11)\n",
    "plt.title(\"Population statistics\")\n",
    "plt.show() "
   ]
  },
  {
   "cell_type": "code",
   "execution_count": 24,
   "id": "318a82ec",
   "metadata": {},
   "outputs": [
    {
     "data": {
      "image/png": "[encoded data removed]",
      "text/plain": [
       "<Figure size 432x288 with 1 Axes>"
      ]
     },
     "metadata": {
      "needs_background": "light"
     },
     "output_type": "display_data"
    }
   ],
   "source": [
    "#-- This chart is for displaying and comparing the numerical value of each category\n",
    "\n",
    "Column = [1,2,3]\n",
    "height = [df['Total_Death'].max(),df['Total_Healed'].max(),df['Total_Patients'].max()]  \n",
    "tick_label = ['Total Death', 'Total Healed', 'Total Patients']\n",
    "  \n",
    "bars = plt.bar(Column, height, tick_label = tick_label,\n",
    "        width = 0.8, color = ['red', 'orange', 'blue'])\n",
    "\n",
    "plt.bar_label(bars, labels=[f'{x:,.0f}' for x in bars.datavalues])\n",
    "plt.xlabel(\"Type\")\n",
    "plt.ylabel(\"Death / person\")\n",
    "plt.title(\"Population statistics\")\n",
    "plt.ticklabel_format(style='plain', axis='y')\n",
    "plt.show()"
   ]
  },
  {
   "cell_type": "code",
   "execution_count": null,
   "id": "4a596c0e",
   "metadata": {},
   "outputs": [],
   "source": []
  }
 ],
 "metadata": {
  "celltoolbar": "Raw Cell Format",
  "kernelspec": {
   "display_name": "Python 3 (ipykernel)",
   "language": "python",
   "name": "python3"
  },
  "language_info": {
   "codemirror_mode": {
    "name": "ipython",
    "version": 3
   },
   "file_extension": ".py",
   "mimetype": "text/x-python",
   "name": "python",
   "nbconvert_exporter": "python",
   "pygments_lexer": "ipython3",
   "version": "3.9.7"
  },
  "widgets": {
   "application/vnd.jupyter.widget-state+json": {
    "state": {},
    "version_major": 2,
    "version_minor": 0
   }
  }
 },
 "nbformat": 4,
 "nbformat_minor": 5
}
